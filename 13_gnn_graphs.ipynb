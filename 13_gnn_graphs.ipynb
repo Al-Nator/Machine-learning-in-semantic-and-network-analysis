{
 "cells": [
  {
   "cell_type": "markdown",
   "id": "29eedd06-4cd6-41fc-aa4e-569dd4f521bd",
   "metadata": {
    "id": "29eedd06-4cd6-41fc-aa4e-569dd4f521bd"
   },
   "source": [
    "# Классификация графов с использованием графовых нейронных сетей"
   ]
  },
  {
   "cell_type": "markdown",
   "id": "f6b687e9-05ef-4908-8bde-2b5dbbe576b6",
   "metadata": {
    "id": "f6b687e9-05ef-4908-8bde-2b5dbbe576b6"
   },
   "source": [
    "__Автор задач: Блохин Н.В. (NVBlokhin@fa.ru)__\n",
    "\n",
    "Материалы:\n",
    "* Макрушин С.В. Машинное обучение на графах\", Лекции 4-5 \"Графовые нейронные сети\"\n",
    "* Документация:\n",
    "    * https://pytorch-geometric.readthedocs.io/en/latest/modules/utils.html#torch_geometric.utils.from_networkx\n",
    "    * https://pytorch-geometric.readthedocs.io/en/latest/tutorial/create_dataset.html\n",
    "    * https://pytorch-geometric.readthedocs.io/en/latest/modules/utils.html?highlight=scatter#torch_geometric.utils.scatter"
   ]
  },
  {
   "cell_type": "markdown",
   "id": "a13ab35d-a7c0-4237-a394-691389c7c773",
   "metadata": {
    "id": "a13ab35d-a7c0-4237-a394-691389c7c773"
   },
   "source": [
    "## Вопросы для совместного обсуждения"
   ]
  },
  {
   "cell_type": "markdown",
   "id": "7ea53db8-da33-43ee-95e0-9876384499c1",
   "metadata": {
    "id": "7ea53db8-da33-43ee-95e0-9876384499c1"
   },
   "source": [
    "1\\. Обсудите задачу предсказания характеристик графа, подходы к получению векторного представления графа и способы объединения графов в пакеты."
   ]
  },
  {
   "cell_type": "code",
   "execution_count": 1,
   "id": "Q-5PLWVnyj-U",
   "metadata": {
    "executionInfo": {
     "elapsed": 3,
     "status": "ok",
     "timestamp": 1747394588778,
     "user": {
      "displayName": "Никита Блохин",
      "userId": "16402972581398673009"
     },
     "user_tz": -180
    },
    "id": "Q-5PLWVnyj-U"
   },
   "outputs": [],
   "source": [
    "from torch.utils.data import Dataset\n",
    "import torch\n",
    "from torch_geometric.utils.convert import from_networkx\n",
    "import networkx as nx\n",
    "\n",
    "class GraphsDataset(Dataset):\n",
    "  def __init__(self):\n",
    "    self.graphs = [nx.random_geometric_graph(n=10, radius=1) for _ in range(10)]\n",
    "    self.ys = torch.randint(0, 7, size=(10, ))\n",
    "\n",
    "  def __getitem__(self, idx):\n",
    "    return from_networkx(self.graphs[idx]), self.ys[idx]\n",
    "\n",
    "  def __len__(self):\n",
    "    return len(self.graphs)"
   ]
  },
  {
   "cell_type": "code",
   "execution_count": 2,
   "id": "8LuXZzKqzwhY",
   "metadata": {
    "colab": {
     "base_uri": "https://localhost:8080/"
    },
    "executionInfo": {
     "elapsed": 14,
     "status": "ok",
     "timestamp": 1747394308548,
     "user": {
      "displayName": "Никита Блохин",
      "userId": "16402972581398673009"
     },
     "user_tz": -180
    },
    "id": "8LuXZzKqzwhY",
    "outputId": "6748dc00-b3aa-4eae-f1f8-5647842c598a"
   },
   "outputs": [
    {
     "data": {
      "text/plain": [
       "43"
      ]
     },
     "execution_count": 2,
     "metadata": {},
     "output_type": "execute_result"
    }
   ],
   "source": [
    "g = nx.random_geometric_graph(n=10, radius=1)\n",
    "g.number_of_edges()"
   ]
  },
  {
   "cell_type": "code",
   "execution_count": 3,
   "id": "Six3Uwjt0Wty",
   "metadata": {
    "colab": {
     "base_uri": "https://localhost:8080/"
    },
    "executionInfo": {
     "elapsed": 16,
     "status": "ok",
     "timestamp": 1747394419576,
     "user": {
      "displayName": "Никита Блохин",
      "userId": "16402972581398673009"
     },
     "user_tz": -180
    },
    "id": "Six3Uwjt0Wty",
    "outputId": "9c393109-d3b1-4db7-aadd-f8467e99d3f1"
   },
   "outputs": [
    {
     "data": {
      "text/plain": [
       "Data(edge_index=[2, 86], pos=[10, 2])"
      ]
     },
     "execution_count": 3,
     "metadata": {},
     "output_type": "execute_result"
    }
   ],
   "source": [
    "from torch_geometric.utils.convert import from_networkx\n",
    "\n",
    "from_networkx(g)"
   ]
  },
  {
   "cell_type": "code",
   "execution_count": 4,
   "id": "Zhx4D_6q1Kr2",
   "metadata": {
    "colab": {
     "base_uri": "https://localhost:8080/"
    },
    "executionInfo": {
     "elapsed": 7,
     "status": "ok",
     "timestamp": 1747394590453,
     "user": {
      "displayName": "Никита Блохин",
      "userId": "16402972581398673009"
     },
     "user_tz": -180
    },
    "id": "Zhx4D_6q1Kr2",
    "outputId": "a6ce0e1b-e1f9-4340-e186-4d9b1ab5f80b"
   },
   "outputs": [
    {
     "data": {
      "text/plain": [
       "(Data(edge_index=[2, 90], pos=[10, 2]), tensor(5))"
      ]
     },
     "execution_count": 4,
     "metadata": {},
     "output_type": "execute_result"
    }
   ],
   "source": [
    "dataset = GraphsDataset()\n",
    "dataset[0]"
   ]
  },
  {
   "cell_type": "code",
   "execution_count": 5,
   "id": "WYx7AbLl1YxF",
   "metadata": {
    "colab": {
     "base_uri": "https://localhost:8080/"
    },
    "executionInfo": {
     "elapsed": 56,
     "status": "ok",
     "timestamp": 1747394696456,
     "user": {
      "displayName": "Никита Блохин",
      "userId": "16402972581398673009"
     },
     "user_tz": -180
    },
    "id": "WYx7AbLl1YxF",
    "outputId": "54a71be4-533f-4e5b-b90b-22a15e88ecca"
   },
   "outputs": [
    {
     "data": {
      "text/plain": [
       "tensor([[ 4.4806, -1.2960, -4.2970, -2.3146, -3.1377, -0.4409, -0.6727],\n",
       "        [ 5.3717, -0.6066, -4.7660, -2.4637, -2.9488, -0.3697, -1.1930],\n",
       "        [ 4.8880, -0.9162, -4.3527, -2.2160, -2.9421, -0.1346, -1.1084],\n",
       "        [ 4.5506, -1.4182, -4.7673, -2.7818, -3.4211, -1.1830, -0.1732],\n",
       "        [ 5.2902, -0.6685, -4.7201, -2.4469, -2.9640, -0.3710, -1.1491],\n",
       "        [ 4.4941, -1.4822, -4.7877, -2.8250, -3.4676, -1.2738, -0.0778],\n",
       "        [ 4.8297, -1.0146, -4.4531, -2.3440, -3.0447, -0.3653, -0.9110],\n",
       "        [ 4.7457, -1.1706, -4.6323, -2.5647, -3.2162, -0.7574, -0.5834],\n",
       "        [ 5.3028, -0.6039, -4.5918, -2.3073, -2.8686, -0.1374, -1.3245],\n",
       "        [ 4.8797, -1.0191, -4.5854, -2.4637, -3.1070, -0.5442, -0.8080]],\n",
       "       grad_fn=<AddBackward0>)"
      ]
     },
     "execution_count": 5,
     "metadata": {},
     "output_type": "execute_result"
    }
   ],
   "source": [
    "import torch_geometric.nn as gnn\n",
    "\n",
    "layer = gnn.GraphConv(in_channels=2, out_channels=7)\n",
    "out = layer(dataset[0][0].pos, dataset[0][0].edge_index)\n",
    "out"
   ]
  },
  {
   "cell_type": "code",
   "execution_count": 6,
   "id": "NHXsmnP919bG",
   "metadata": {
    "executionInfo": {
     "elapsed": 5,
     "status": "ok",
     "timestamp": 1747394754359,
     "user": {
      "displayName": "Никита Блохин",
      "userId": "16402972581398673009"
     },
     "user_tz": -180
    },
    "id": "NHXsmnP919bG"
   },
   "outputs": [],
   "source": [
    "from torch_geometric.utils import scatter"
   ]
  },
  {
   "cell_type": "code",
   "execution_count": 8,
   "id": "T8Rm1T8p2ZvK",
   "metadata": {
    "executionInfo": {
     "elapsed": 39,
     "status": "ok",
     "timestamp": 1747394928990,
     "user": {
      "displayName": "Никита Блохин",
      "userId": "16402972581398673009"
     },
     "user_tz": -180
    },
    "id": "T8Rm1T8p2ZvK"
   },
   "outputs": [],
   "source": [
    "from torch_geometric.loader import DataLoader\n",
    "\n",
    "loader = DataLoader(dataset, batch_size=4)"
   ]
  },
  {
   "cell_type": "code",
   "execution_count": 9,
   "id": "bbmlv82r2qT7",
   "metadata": {
    "executionInfo": {
     "elapsed": 22,
     "status": "ok",
     "timestamp": 1747394942527,
     "user": {
      "displayName": "Никита Блохин",
      "userId": "16402972581398673009"
     },
     "user_tz": -180
    },
    "id": "bbmlv82r2qT7"
   },
   "outputs": [],
   "source": [
    "batch, labels = next(iter(loader))"
   ]
  },
  {
   "cell_type": "code",
   "execution_count": 10,
   "id": "hCvp0tt-2thX",
   "metadata": {
    "colab": {
     "base_uri": "https://localhost:8080/"
    },
    "executionInfo": {
     "elapsed": 6,
     "status": "ok",
     "timestamp": 1747394946168,
     "user": {
      "displayName": "Никита Блохин",
      "userId": "16402972581398673009"
     },
     "user_tz": -180
    },
    "id": "hCvp0tt-2thX",
    "outputId": "7e28f7dd-6110-44ee-dfab-d3591e297829"
   },
   "outputs": [
    {
     "data": {
      "text/plain": [
       "DataBatch(edge_index=[2, 346], pos=[40, 2], batch=[40], ptr=[5])"
      ]
     },
     "execution_count": 10,
     "metadata": {},
     "output_type": "execute_result"
    }
   ],
   "source": [
    "batch"
   ]
  },
  {
   "cell_type": "code",
   "execution_count": 11,
   "id": "x7aGdEsH2uSk",
   "metadata": {
    "colab": {
     "base_uri": "https://localhost:8080/"
    },
    "executionInfo": {
     "elapsed": 13,
     "status": "ok",
     "timestamp": 1747394948781,
     "user": {
      "displayName": "Никита Блохин",
      "userId": "16402972581398673009"
     },
     "user_tz": -180
    },
    "id": "x7aGdEsH2uSk",
    "outputId": "a9882401-2ba8-47a0-dff1-65af059714a2"
   },
   "outputs": [
    {
     "data": {
      "text/plain": [
       "tensor([5, 1, 6, 6])"
      ]
     },
     "execution_count": 11,
     "metadata": {},
     "output_type": "execute_result"
    }
   ],
   "source": [
    "labels"
   ]
  },
  {
   "cell_type": "code",
   "execution_count": 12,
   "id": "3Te0ruOx3Au8",
   "metadata": {
    "colab": {
     "base_uri": "https://localhost:8080/"
    },
    "executionInfo": {
     "elapsed": 8,
     "status": "ok",
     "timestamp": 1747395025029,
     "user": {
      "displayName": "Никита Блохин",
      "userId": "16402972581398673009"
     },
     "user_tz": -180
    },
    "id": "3Te0ruOx3Au8",
    "outputId": "1b7a138c-6da9-45db-bf4e-ac90f13f4ae8"
   },
   "outputs": [
    {
     "data": {
      "text/plain": [
       "tensor([0, 0, 0, 0, 0, 0, 0, 0, 0, 0, 1, 1, 1, 1, 1, 1, 1, 1, 1, 1, 2, 2, 2, 2,\n",
       "        2, 2, 2, 2, 2, 2, 3, 3, 3, 3, 3, 3, 3, 3, 3, 3])"
      ]
     },
     "execution_count": 12,
     "metadata": {},
     "output_type": "execute_result"
    }
   ],
   "source": [
    "batch.batch"
   ]
  },
  {
   "cell_type": "code",
   "execution_count": 13,
   "id": "opxVm06u3c1m",
   "metadata": {
    "executionInfo": {
     "elapsed": 5,
     "status": "ok",
     "timestamp": 1747395157140,
     "user": {
      "displayName": "Никита Блохин",
      "userId": "16402972581398673009"
     },
     "user_tz": -180
    },
    "id": "opxVm06u3c1m"
   },
   "outputs": [],
   "source": [
    "out = layer(batch.pos, batch.edge_index)"
   ]
  },
  {
   "cell_type": "code",
   "execution_count": 14,
   "id": "DhhsNM5F3Noh",
   "metadata": {
    "colab": {
     "base_uri": "https://localhost:8080/"
    },
    "executionInfo": {
     "elapsed": 6,
     "status": "ok",
     "timestamp": 1747395158962,
     "user": {
      "displayName": "Никита Блохин",
      "userId": "16402972581398673009"
     },
     "user_tz": -180
    },
    "id": "DhhsNM5F3Noh",
    "outputId": "3dd23b6e-48fa-4c35-d8a8-6df0ca6b8ffa"
   },
   "outputs": [
    {
     "data": {
      "text/plain": [
       "tensor([[ 48.8332, -10.1960, -45.9534, -24.7277, -31.1179,  -5.5775,  -8.0010],\n",
       "        [ 43.2900,  -0.7076, -42.8172, -10.6113, -19.5073,  10.6804, -12.2846],\n",
       "        [ 45.4441, -11.4678, -41.6517, -24.3746, -30.7382,  -7.6443,  -6.4531],\n",
       "        [ 42.0447,  -4.5642, -39.6649, -14.8974, -22.6703,   3.1852,  -9.4935]],\n",
       "       grad_fn=<ScatterAddBackward0>)"
      ]
     },
     "execution_count": 14,
     "metadata": {},
     "output_type": "execute_result"
    }
   ],
   "source": [
    "scatter(out, index=batch.batch, dim=0)"
   ]
  },
  {
   "cell_type": "code",
   "execution_count": 15,
   "id": "kwifK7wY4Aj-",
   "metadata": {
    "colab": {
     "base_uri": "https://localhost:8080/"
    },
    "executionInfo": {
     "elapsed": 16,
     "status": "ok",
     "timestamp": 1747395285176,
     "user": {
      "displayName": "Никита Блохин",
      "userId": "16402972581398673009"
     },
     "user_tz": -180
    },
    "id": "kwifK7wY4Aj-",
    "outputId": "9b89c388-bbb0-4444-83d2-f521aca00d2b"
   },
   "outputs": [
    {
     "data": {
      "text/plain": [
       "tensor([5, 1, 6, 6])"
      ]
     },
     "execution_count": 15,
     "metadata": {},
     "output_type": "execute_result"
    }
   ],
   "source": [
    "labels"
   ]
  },
  {
   "cell_type": "markdown",
   "id": "5f786de8-ba69-4d86-b997-e55c9028acad",
   "metadata": {
    "id": "5f786de8-ba69-4d86-b997-e55c9028acad"
   },
   "source": [
    "## Задачи для самостоятельного решения"
   ]
  },
  {
   "cell_type": "code",
   "execution_count": 1,
   "id": "8a420c62",
   "metadata": {},
   "outputs": [],
   "source": [
    "import os\n",
    "import networkx as nx\n",
    "from torch.utils.data import Dataset\n",
    "import torch as th\n",
    "from torch_geometric.utils import from_networkx\n",
    "from torch_geometric.nn import global_mean_pool, SAGEConv, global_add_pool, global_max_pool\n",
    "from torch_geometric.loader import DataLoader\n",
    "import torch.nn.functional as F\n",
    "from torchmetrics import MeanMetric, Accuracy, ConfusionMatrix\n",
    "from torch.utils.data import random_split\n",
    "from torch_scatter import scatter_min\n",
    "import pandas as pd"
   ]
  },
  {
   "cell_type": "markdown",
   "id": "86485fa4",
   "metadata": {
    "id": "86485fa4"
   },
   "source": [
    "<p class=\"task\" id=\"1\"></p>\n",
    "\n",
    "1\\. Реализуйте все описанные методы класса `GraphsDataset`. Используя данный класс, создайте датасет на основе файлов архива `graphs.zip` (можно разархивировать вручную или программно). Выведите на экран количество объектов в датасете. Выведите на экран значения признаков узлов для графа с индексом 0.\n",
    "\n",
    "- [x] Проверено на семинаре"
   ]
  },
  {
   "cell_type": "code",
   "execution_count": 46,
   "id": "d979e3e8",
   "metadata": {},
   "outputs": [],
   "source": [
    "class GraphsDataset(Dataset):\n",
    "    def __init__(self, root_dir):\n",
    "        super().__init__()\n",
    "        self.graphs = []\n",
    "        self.ys = []\n",
    "        f2l = {\n",
    "            'barabasi_albert_graph': 0,\n",
    "            'random_partition_graph': 1,\n",
    "            'watts_strogatz_graph': 2\n",
    "        }\n",
    "        for folder in sorted(os.listdir(root_dir)):\n",
    "            folder_path = os.path.join(root_dir, folder)\n",
    "            for fname in sorted(os.listdir(folder_path), key=lambda x: int(''.join(filter(str.isdigit, x)))):\n",
    "                G = nx.read_gml(os.path.join(folder_path, fname))\n",
    "                self.graphs.append(G)\n",
    "                self.ys.append(f2l[folder])\n",
    "        attrs = set()\n",
    "        for G in self.graphs:\n",
    "            for _, data in G.nodes(data=True):\n",
    "                attrs.update(data.keys())\n",
    "        self.node_attrs = list(attrs)\n",
    "        self.ys = th.tensor(self.ys, dtype=th.long)\n",
    "\n",
    "    def __len__(self):\n",
    "        return len(self.graphs)\n",
    "\n",
    "    def __getitem__(self, idx):\n",
    "        G = self.graphs[idx]\n",
    "        for _, data in G.nodes(data=True):\n",
    "            for key in self.node_attrs:\n",
    "                data.setdefault(key, 0.0)\n",
    "        data = from_networkx(G, group_node_attrs=self.node_attrs)\n",
    "        return data, self.ys[idx]"
   ]
  },
  {
   "cell_type": "code",
   "execution_count": 47,
   "id": "b20aab9e",
   "metadata": {},
   "outputs": [
    {
     "data": {
      "text/plain": [
       "600"
      ]
     },
     "execution_count": 47,
     "metadata": {},
     "output_type": "execute_result"
    }
   ],
   "source": [
    "dataset = GraphsDataset(root_dir='data/graphs')\n",
    "len(dataset)"
   ]
  },
  {
   "cell_type": "code",
   "execution_count": 48,
   "id": "bf2b1210",
   "metadata": {},
   "outputs": [
    {
     "data": {
      "text/plain": [
       "(torch.Size([13, 3]),\n",
       " tensor([[0.6667, 0.0000, 0.3929],\n",
       "         [0.2500, 0.0000, 0.6667],\n",
       "         [0.3333, 0.0000, 0.1667],\n",
       "         [0.5000, 0.0000, 0.4667],\n",
       "         [0.5833, 0.0000, 0.4762],\n",
       "         [0.6667, 0.0000, 0.3929],\n",
       "         [0.4167, 0.0000, 0.4000],\n",
       "         [0.5000, 0.0000, 0.3333],\n",
       "         [0.5000, 0.0000, 0.6000],\n",
       "         [0.5000, 0.0000, 0.4000],\n",
       "         [0.4167, 0.0000, 0.4000],\n",
       "         [0.3333, 0.0000, 0.3333],\n",
       "         [0.3333, 0.0000, 0.5000]]))"
      ]
     },
     "execution_count": 48,
     "metadata": {},
     "output_type": "execute_result"
    }
   ],
   "source": [
    "data0, y0 = dataset[0]\n",
    "data0.x.shape, data0.x"
   ]
  },
  {
   "cell_type": "markdown",
   "id": "d18adb6b-41a9-4c80-b5a9-1009345c5ee8",
   "metadata": {
    "id": "d18adb6b-41a9-4c80-b5a9-1009345c5ee8"
   },
   "source": [
    "<p class=\"task\" id=\"2\"></p>\n",
    "\n",
    "2\\. Используя датасет из предыдущего задания, создайте объект `torch_geometric.loader.DataLodaer`. Получите один батч размера 128 при помощи этого объекта и выведите на экран (используйте соответствующие атрибуты и методы):\n",
    "\n",
    "* количество узлов в графе-батче;\n",
    "* количество связей в графе-батче;\n",
    "* количество графов в батче;\n",
    "* количество узлов в каждом графе батча;\n",
    "\n",
    "Выполните readout для графа на основе атрибута `X`. Выведите размерность полученного тензора на экран.\n",
    "\n",
    "- [ ] Проверено на семинаре"
   ]
  },
  {
   "cell_type": "code",
   "execution_count": 34,
   "id": "9b4e44e5",
   "metadata": {},
   "outputs": [
    {
     "data": {
      "text/plain": [
       "(4518,\n",
       " 21016,\n",
       " 128,\n",
       " tensor([29, 15, 35, 27, 42, 22, 52, 37, 33, 36, 26, 23, 48, 21, 46, 24, 35, 32,\n",
       "         13, 55, 13, 41, 16, 47, 51, 24, 28, 51, 48, 21, 27, 60, 15, 26, 37, 22,\n",
       "         47, 35, 30, 40, 30, 33, 50, 48, 45, 19, 37, 38, 34, 56, 25, 18, 46, 56,\n",
       "         18, 55, 57, 40, 31, 23, 45, 47, 54, 40, 37, 34, 46, 29, 13, 35, 39, 29,\n",
       "         37, 45, 15, 29, 43, 15, 52, 43, 30, 45, 24, 18, 52, 22, 41, 36, 29, 11,\n",
       "         35, 50, 25, 45, 21, 36, 39, 35, 44, 29, 24, 45, 37, 33, 50, 38, 30, 22,\n",
       "         42, 39, 45, 27, 29, 42, 11, 54, 38, 41, 41, 40, 36, 45, 44, 32, 17, 60,\n",
       "         33, 40]))"
      ]
     },
     "execution_count": 34,
     "metadata": {},
     "output_type": "execute_result"
    }
   ],
   "source": [
    "loader = DataLoader(dataset, batch_size=128, shuffle=False)\n",
    "batch, batch_labels = next(iter(loader))\n",
    "\n",
    "batch.num_nodes, batch.num_edges, batch.num_graphs, th.bincount(batch.batch)"
   ]
  },
  {
   "cell_type": "code",
   "execution_count": 35,
   "id": "eee9e92c",
   "metadata": {},
   "outputs": [
    {
     "data": {
      "text/plain": [
       "torch.Size([128, 3])"
      ]
     },
     "execution_count": 35,
     "metadata": {},
     "output_type": "execute_result"
    }
   ],
   "source": [
    "global_mean_pool(batch.x, batch.batch).shape"
   ]
  },
  {
   "cell_type": "markdown",
   "id": "83e349d5-0e05-436b-9ecd-badbd2844fa4",
   "metadata": {
    "id": "83e349d5-0e05-436b-9ecd-badbd2844fa4"
   },
   "source": [
    "<p class=\"task\" id=\"3\"></p>\n",
    "\n",
    "3\\. Решите задачу классификации графа, используя слои `SAGEConv` и операцию усреднения для процедуры readout. Для обучения используйте стохастический градиентный спуск с размером батча 128. Во время обучения выводите значение функции потерь по эпохам (используйте `torchmetrics`). Вычислите матрицу несоответствий прогнозов и точность обученной модели (используйте `torchmetrics`).  \n",
    "\n",
    "- [ ] Проверено на семинаре"
   ]
  },
  {
   "cell_type": "code",
   "execution_count": null,
   "id": "45e9bf09",
   "metadata": {},
   "outputs": [],
   "source": [
    "train_size = int(0.8 * len(dataset))\n",
    "test_size = len(dataset) - train_size\n",
    "train_dataset, test_dataset = random_split(dataset, [train_size, test_size])\n",
    "\n",
    "train_loader = DataLoader(train_dataset, batch_size=128, shuffle=True)\n",
    "test_loader = DataLoader(test_dataset, batch_size=128, shuffle=False)\n",
    "\n",
    "device = th.device('cuda' if th.cuda.is_available() else 'cpu')\n",
    "\n",
    "class GraphSAGE(th.nn.Module):\n",
    "    def __init__(self, in_channels, hidden_channels, num_classes, readout=global_mean_pool):\n",
    "        super().__init__()\n",
    "        self.conv1 = SAGEConv(in_channels, hidden_channels)\n",
    "        self.conv2 = SAGEConv(hidden_channels, hidden_channels)\n",
    "        self.lin = th.nn.Linear(hidden_channels, num_classes)\n",
    "        self.readout = readout\n",
    "\n",
    "    def forward(self, x, edge_index, batch):\n",
    "        x = self.conv1(x, edge_index)\n",
    "        x = F.relu(x)\n",
    "        x = self.conv2(x, edge_index)\n",
    "        x = F.relu(x)\n",
    "        x = self.readout(x, batch)\n",
    "        return self.lin(x)\n",
    "\n",
    "in_channels = dataset[0][0].x.size(1)\n",
    "hidden_channels = 64\n",
    "num_classes = len(th.unique(dataset.ys))\n",
    "model = GraphSAGE(in_channels, hidden_channels, num_classes).to(device)\n",
    "\n",
    "optimizer = th.optim.SGD(model.parameters(), lr=0.01, momentum=0.9)\n",
    "\n",
    "loss_metric = MeanMetric().to(device)\n",
    "acc_metric = Accuracy(task='multiclass', num_classes=num_classes, top_k=1).to(device)\n",
    "confmat = ConfusionMatrix(task='multiclass', num_classes=num_classes).to(device)"
   ]
  },
  {
   "cell_type": "code",
   "execution_count": 94,
   "id": "775fe5d3",
   "metadata": {},
   "outputs": [
    {
     "name": "stdout",
     "output_type": "stream",
     "text": [
      "Эпоха 01, loss: 1.0903\n",
      "Эпоха 02, loss: 1.0457\n",
      "Эпоха 03, loss: 0.9760\n",
      "Эпоха 04, loss: 0.8987\n",
      "Эпоха 05, loss: 0.8253\n",
      "Эпоха 06, loss: 0.7570\n",
      "Эпоха 07, loss: 0.6873\n",
      "Эпоха 08, loss: 0.6302\n",
      "Эпоха 09, loss: 0.5808\n",
      "Эпоха 10, loss: 0.5413\n",
      "Эпоха 11, loss: 0.5116\n",
      "Эпоха 12, loss: 0.4875\n",
      "Эпоха 13, loss: 0.4603\n",
      "Эпоха 14, loss: 0.4442\n",
      "Эпоха 15, loss: 0.4262\n",
      "Эпоха 16, loss: 0.4012\n",
      "Эпоха 17, loss: 0.3900\n",
      "Эпоха 18, loss: 0.3762\n",
      "Эпоха 19, loss: 0.3655\n",
      "Эпоха 20, loss: 0.3515\n",
      "Эпоха 21, loss: 0.3395\n",
      "Эпоха 22, loss: 0.3315\n",
      "Эпоха 23, loss: 0.3196\n",
      "Эпоха 24, loss: 0.3138\n",
      "Эпоха 25, loss: 0.3080\n",
      "Эпоха 26, loss: 0.3029\n",
      "Эпоха 27, loss: 0.2920\n",
      "Эпоха 28, loss: 0.2901\n",
      "Эпоха 29, loss: 0.2873\n",
      "Эпоха 30, loss: 0.2820\n",
      "Эпоха 31, loss: 0.2769\n",
      "Эпоха 32, loss: 0.2810\n",
      "Эпоха 33, loss: 0.2789\n",
      "Эпоха 34, loss: 0.2768\n",
      "Эпоха 35, loss: 0.2711\n",
      "Эпоха 36, loss: 0.2706\n",
      "Эпоха 37, loss: 0.2679\n",
      "Эпоха 38, loss: 0.2695\n",
      "Эпоха 39, loss: 0.2672\n",
      "Эпоха 40, loss: 0.2682\n",
      "Эпоха 41, loss: 0.2617\n",
      "Эпоха 42, loss: 0.2600\n",
      "Эпоха 43, loss: 0.2615\n",
      "Эпоха 44, loss: 0.2607\n",
      "Эпоха 45, loss: 0.2566\n",
      "Эпоха 46, loss: 0.2623\n",
      "Эпоха 47, loss: 0.2589\n",
      "Эпоха 48, loss: 0.2552\n",
      "Эпоха 49, loss: 0.2600\n",
      "Эпоха 50, loss: 0.2558\n"
     ]
    }
   ],
   "source": [
    "num_epochs = 50\n",
    "for epoch in range(1, num_epochs + 1):\n",
    "    model.train()\n",
    "    loss_metric.reset()\n",
    "    for data, label in train_loader:\n",
    "        data, label = data.to(device), label.to(device)\n",
    "        optimizer.zero_grad()\n",
    "        out = model(data.x, data.edge_index, data.batch)\n",
    "        loss = F.cross_entropy(out, label)\n",
    "        loss.backward()\n",
    "        optimizer.step()\n",
    "        loss_metric.update(loss)\n",
    "    print(f'Эпоха {epoch:02d}, loss: {loss_metric.compute():.4f}')\n",
    "\n",
    "model.eval()\n",
    "acc_metric.reset()\n",
    "confmat.reset()\n",
    "with th.no_grad():\n",
    "    for data, label in test_loader:\n",
    "        data, label = data.to(device), label.to(device)\n",
    "        out = model(data.x, data.edge_index, data.batch)\n",
    "        preds = out.argmax(dim=1)\n",
    "        acc_metric.update(preds, label)\n",
    "        confmat.update(preds, label)"
   ]
  },
  {
   "cell_type": "code",
   "execution_count": 95,
   "id": "3334b222",
   "metadata": {},
   "outputs": [
    {
     "name": "stdout",
     "output_type": "stream",
     "text": [
      "Точность на тесте: 0.8667\n",
      "Матрица ошибок: \n",
      "tensor([[37,  0, 11],\n",
      "        [ 0, 38,  0],\n",
      "        [ 5,  0, 29]], device='cuda:0')\n"
     ]
    }
   ],
   "source": [
    "print(f'Точность на тесте: {acc_metric.compute():.4f}')\n",
    "print(f'Матрица ошибок: \\n{confmat.compute()}')"
   ]
  },
  {
   "cell_type": "markdown",
   "id": "1ddf9392-8ee3-45c2-b462-f2f8a9ceb9ca",
   "metadata": {
    "id": "1ddf9392-8ee3-45c2-b462-f2f8a9ceb9ca"
   },
   "source": [
    "<p class=\"task\" id=\"4\"></p>\n",
    "\n",
    "4\\. Повторите решение задачи 3, сравнив разные функции агрегации для проведения операции readout. Выведите результаты в виде таблицы:\n",
    "\n",
    "Выведите результат в виде таблицы:\n",
    "\n",
    "| Readout op    | Loss | Acc |\n",
    "|-----------|------------------|-----------------|\n",
    "| sum |                  |                 |\n",
    "| mean  |                  |                 |\n",
    "| max   |                  |                 |\n",
    "| min   |                  |                 |\n",
    "\n",
    "- [ ] Проверено на семинаре"
   ]
  },
  {
   "cell_type": "code",
   "execution_count": 96,
   "id": "9fe5bb8f",
   "metadata": {},
   "outputs": [],
   "source": [
    "def global_min_pool(x, batch, dim=0):\n",
    "    out, _ = scatter_min(x, batch, dim=dim)\n",
    "    return out\n",
    "\n",
    "readout_ops = {\n",
    "    'sum': global_add_pool,\n",
    "    'mean': global_mean_pool,\n",
    "    'max': global_max_pool,\n",
    "    'min': global_min_pool\n",
    "}\n",
    "\n",
    "results = []\n",
    "num_epochs = 50\n",
    "\n",
    "for name, readout in readout_ops.items():\n",
    "    model = GraphSAGE(in_channels, hidden_channels, num_classes, readout).to(device)\n",
    "    optimizer = th.optim.SGD(model.parameters(), lr=0.01, momentum=0.9)\n",
    "    loss_metric = MeanMetric().to(device)\n",
    "    acc_metric = Accuracy(task='multiclass', num_classes=num_classes, top_k=1).to(device)\n",
    "\n",
    "    for epoch in range(1, num_epochs+1):\n",
    "        model.train()\n",
    "        loss_metric.reset()\n",
    "        for data, label in train_loader:\n",
    "            data, label = data.to(device), label.to(device)\n",
    "            optimizer.zero_grad()\n",
    "            out = model(data.x, data.edge_index, data.batch)\n",
    "            loss = F.cross_entropy(out, label)\n",
    "            loss.backward()\n",
    "            optimizer.step()\n",
    "            loss_metric.update(loss)\n",
    "\n",
    "    model.eval()\n",
    "    acc_metric.reset()\n",
    "    test_loss = 0.0\n",
    "    n_batches = 0\n",
    "    with th.no_grad():\n",
    "        for data, label in test_loader:\n",
    "            data, label = data.to(device), label.to(device)\n",
    "            out = model(data.x, data.edge_index, data.batch)\n",
    "            loss = F.cross_entropy(out, label)\n",
    "            test_loss += loss.item()\n",
    "            n_batches += 1\n",
    "            preds = out.argmax(dim=1)\n",
    "            acc_metric.update(preds, label)\n",
    "    test_loss /= n_batches\n",
    "    test_acc = acc_metric.compute().item()\n",
    "    results.append((name, test_loss, test_acc))"
   ]
  },
  {
   "cell_type": "code",
   "execution_count": 97,
   "id": "15373e1a",
   "metadata": {},
   "outputs": [
    {
     "data": {
      "text/html": [
       "<div>\n",
       "<style scoped>\n",
       "    .dataframe tbody tr th:only-of-type {\n",
       "        vertical-align: middle;\n",
       "    }\n",
       "\n",
       "    .dataframe tbody tr th {\n",
       "        vertical-align: top;\n",
       "    }\n",
       "\n",
       "    .dataframe thead th {\n",
       "        text-align: right;\n",
       "    }\n",
       "</style>\n",
       "<table border=\"1\" class=\"dataframe\">\n",
       "  <thead>\n",
       "    <tr style=\"text-align: right;\">\n",
       "      <th></th>\n",
       "      <th>Readout op</th>\n",
       "      <th>Loss</th>\n",
       "      <th>Acc</th>\n",
       "    </tr>\n",
       "  </thead>\n",
       "  <tbody>\n",
       "    <tr>\n",
       "      <th>0</th>\n",
       "      <td>sum</td>\n",
       "      <td>0.196431</td>\n",
       "      <td>0.916667</td>\n",
       "    </tr>\n",
       "    <tr>\n",
       "      <th>2</th>\n",
       "      <td>max</td>\n",
       "      <td>0.221148</td>\n",
       "      <td>0.900000</td>\n",
       "    </tr>\n",
       "    <tr>\n",
       "      <th>3</th>\n",
       "      <td>min</td>\n",
       "      <td>0.229243</td>\n",
       "      <td>0.900000</td>\n",
       "    </tr>\n",
       "    <tr>\n",
       "      <th>1</th>\n",
       "      <td>mean</td>\n",
       "      <td>0.278025</td>\n",
       "      <td>0.858333</td>\n",
       "    </tr>\n",
       "  </tbody>\n",
       "</table>\n",
       "</div>"
      ],
      "text/plain": [
       "  Readout op      Loss       Acc\n",
       "0        sum  0.196431  0.916667\n",
       "2        max  0.221148  0.900000\n",
       "3        min  0.229243  0.900000\n",
       "1       mean  0.278025  0.858333"
      ]
     },
     "execution_count": 97,
     "metadata": {},
     "output_type": "execute_result"
    }
   ],
   "source": [
    "df = pd.DataFrame(results, columns=['Readout op', 'Loss', 'Acc']).sort_values(by='Acc', ascending=False)\n",
    "df"
   ]
  },
  {
   "cell_type": "code",
   "execution_count": null,
   "id": "b2559ab2",
   "metadata": {},
   "outputs": [],
   "source": []
  }
 ],
 "metadata": {
  "colab": {
   "provenance": []
  },
  "kernelspec": {
   "display_name": "new",
   "language": "python",
   "name": "python3"
  },
  "language_info": {
   "codemirror_mode": {
    "name": "ipython",
    "version": 3
   },
   "file_extension": ".py",
   "mimetype": "text/x-python",
   "name": "python",
   "nbconvert_exporter": "python",
   "pygments_lexer": "ipython3",
   "version": "3.12.2"
  }
 },
 "nbformat": 4,
 "nbformat_minor": 5
}
