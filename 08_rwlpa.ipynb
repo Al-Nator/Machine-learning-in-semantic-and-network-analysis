{
 "cells": [
  {
   "cell_type": "markdown",
   "id": "29eedd06-4cd6-41fc-aa4e-569dd4f521bd",
   "metadata": {
    "id": "29eedd06-4cd6-41fc-aa4e-569dd4f521bd"
   },
   "source": [
    "# Метод распространения меток на основе случайных блужданий (RW-LPA)"
   ]
  },
  {
   "cell_type": "markdown",
   "id": "f6b687e9-05ef-4908-8bde-2b5dbbe576b6",
   "metadata": {
    "id": "f6b687e9-05ef-4908-8bde-2b5dbbe576b6"
   },
   "source": [
    "__Автор задач: Блохин Н.В. (NVBlokhin@fa.ru)__\n",
    "\n",
    "Материалы:\n",
    "* Макрушин С.В. \"Лекция 5: Случайные блуждания на графах\"\n",
    "* Документация:\n",
    "    * https://networkx.org/documentation/stable/reference/generated/networkx.linalg.graphmatrix.adjacency_matrix.html\n",
    "    * https://numpy.org/doc/stable/reference/generated/numpy.linalg.matrix_power.html\n",
    "    * https://numpy.org/doc/stable/reference/generated/numpy.linalg.inv.html"
   ]
  },
  {
   "cell_type": "markdown",
   "id": "a13ab35d-a7c0-4237-a394-691389c7c773",
   "metadata": {
    "id": "a13ab35d-a7c0-4237-a394-691389c7c773"
   },
   "source": [
    "## Вопросы для совместного обсуждения"
   ]
  },
  {
   "cell_type": "markdown",
   "id": "7ea53db8-da33-43ee-95e0-9876384499c1",
   "metadata": {
    "id": "7ea53db8-da33-43ee-95e0-9876384499c1"
   },
   "source": [
    "1\\. Обсудите принцип работы алгоритма RW-LPA, принцип построения блочной матрицы $\\mathbf{P}$ и матрицы начального состояния меток $\\mathbf{Y_0}$.\n",
    "\n",
    "$$\\mathbf{P} = \\begin{pmatrix}\n",
    "\\mathbf{P}_{ll}& \\mathbf{P}_{lu}\\\\\n",
    "\\mathbf{P}_{ul}& \\mathbf{P}_{uu}\\\\\n",
    "\\end{pmatrix} = \\begin{pmatrix}\n",
    "\\mathbf{I}& \\mathbf{0}\\\\\n",
    "\\mathbf{P}_{ul}& \\mathbf{P}_{uu}\\\\\n",
    "\\end{pmatrix}$$\n",
    "\n",
    "$$\\mathbf{Y_0} = \\begin{pmatrix}\n",
    "\\mathbf{Y_{l}}\\\\\n",
    "\\mathbf{Y_{u}}\\\\\n",
    "\\end{pmatrix}= \\begin{pmatrix}\n",
    "\\mathbf{Y_{l}}\\\\\n",
    "\\mathbf{0}\\\\\n",
    "\\end{pmatrix}$$"
   ]
  },
  {
   "cell_type": "code",
   "execution_count": 1,
   "id": "XkcGWu4nkVDr",
   "metadata": {
    "executionInfo": {
     "elapsed": 3264,
     "status": "ok",
     "timestamp": 1744370245012,
     "user": {
      "displayName": "Никита Блохин",
      "userId": "16402972581398673009"
     },
     "user_tz": -180
    },
    "id": "XkcGWu4nkVDr"
   },
   "outputs": [],
   "source": [
    "import networkx as nx"
   ]
  },
  {
   "cell_type": "code",
   "execution_count": 2,
   "id": "4f37QTWrkXNm",
   "metadata": {
    "colab": {
     "base_uri": "https://localhost:8080/",
     "height": 516
    },
    "executionInfo": {
     "elapsed": 419,
     "status": "ok",
     "timestamp": 1744370312498,
     "user": {
      "displayName": "Никита Блохин",
      "userId": "16402972581398673009"
     },
     "user_tz": -180
    },
    "id": "4f37QTWrkXNm",
    "outputId": "150b589c-b37b-47c6-a2a6-3adf47662e2e"
   },
   "outputs": [
    {
     "data": {
      "image/png": "[encoded data removed]",
      "text/plain": [
       "<Figure size 640x480 with 1 Axes>"
      ]
     },
     "metadata": {},
     "output_type": "display_data"
    }
   ],
   "source": [
    "G = nx.barbell_graph(3, 1)\n",
    "nx.draw(G, with_labels=True)"
   ]
  },
  {
   "cell_type": "code",
   "execution_count": 3,
   "id": "fsyn3cYvkhBc",
   "metadata": {
    "executionInfo": {
     "elapsed": 5,
     "status": "ok",
     "timestamp": 1744370419055,
     "user": {
      "displayName": "Никита Блохин",
      "userId": "16402972581398673009"
     },
     "user_tz": -180
    },
    "id": "fsyn3cYvkhBc"
   },
   "outputs": [],
   "source": [
    "comm1 = [1]\n",
    "comm2 = [5]\n",
    "\n",
    "unlabeled = list(set(G).difference(comm1).difference(comm2))\n",
    "len(unlabeled)\n",
    "n_comms = 2"
   ]
  },
  {
   "cell_type": "code",
   "execution_count": 4,
   "id": "1_f44G6hlEWh",
   "metadata": {
    "colab": {
     "base_uri": "https://localhost:8080/"
    },
    "executionInfo": {
     "elapsed": 6,
     "status": "ok",
     "timestamp": 1744370500319,
     "user": {
      "displayName": "Никита Блохин",
      "userId": "16402972581398673009"
     },
     "user_tz": -180
    },
    "id": "1_f44G6hlEWh",
    "outputId": "543d67db-9f3e-462a-c5f9-015a95fc9b64"
   },
   "outputs": [
    {
     "data": {
      "text/plain": [
       "array([[0, 0, 1, 1, 0, 0, 0],\n",
       "       [0, 0, 0, 0, 0, 1, 1],\n",
       "       [1, 0, 0, 1, 0, 0, 0],\n",
       "       [1, 0, 1, 0, 1, 0, 0],\n",
       "       [0, 0, 0, 1, 0, 1, 0],\n",
       "       [0, 1, 0, 0, 1, 0, 1],\n",
       "       [0, 1, 0, 0, 0, 1, 0]])"
      ]
     },
     "execution_count": 4,
     "metadata": {},
     "output_type": "execute_result"
    }
   ],
   "source": [
    "nodes_order = [*comm1, *comm2, *unlabeled]\n",
    "# nodes_order\n",
    "A = nx.adjacency_matrix(G, nodelist=nodes_order).toarray()\n",
    "# модификация матрицы смежности ...\n",
    "A"
   ]
  },
  {
   "cell_type": "code",
   "execution_count": 5,
   "id": "Adhy8k1OmMy1",
   "metadata": {
    "executionInfo": {
     "elapsed": 35,
     "status": "ok",
     "timestamp": 1744370720126,
     "user": {
      "displayName": "Никита Блохин",
      "userId": "16402972581398673009"
     },
     "user_tz": -180
    },
    "id": "Adhy8k1OmMy1"
   },
   "outputs": [],
   "source": [
    "import numpy as np"
   ]
  },
  {
   "cell_type": "code",
   "execution_count": 6,
   "id": "ZsWKbA3Cl4Qx",
   "metadata": {
    "colab": {
     "base_uri": "https://localhost:8080/"
    },
    "executionInfo": {
     "elapsed": 9,
     "status": "ok",
     "timestamp": 1744370739224,
     "user": {
      "displayName": "Никита Блохин",
      "userId": "16402972581398673009"
     },
     "user_tz": -180
    },
    "id": "ZsWKbA3Cl4Qx",
    "outputId": "4318f34c-49c3-4a4e-86ba-5cfc53baaa9b"
   },
   "outputs": [
    {
     "data": {
      "text/plain": [
       "array([[1., 0.],\n",
       "       [0., 1.],\n",
       "       [0., 0.],\n",
       "       [0., 0.],\n",
       "       [0., 0.],\n",
       "       [0., 0.],\n",
       "       [0., 0.]])"
      ]
     },
     "execution_count": 6,
     "metadata": {},
     "output_type": "execute_result"
    }
   ],
   "source": [
    "Y0 = np.zeros((len(G), 2))\n",
    "Y0[0, 0] = 1\n",
    "Y0[1, 1] = 1\n",
    "Y0"
   ]
  },
  {
   "cell_type": "markdown",
   "id": "5f786de8-ba69-4d86-b997-e55c9028acad",
   "metadata": {
    "id": "5f786de8-ba69-4d86-b997-e55c9028acad"
   },
   "source": [
    "## Задачи для самостоятельного решения"
   ]
  },
  {
   "cell_type": "code",
   "execution_count": 7,
   "id": "3db141bf",
   "metadata": {},
   "outputs": [],
   "source": [
    "import networkx as nx\n",
    "import random\n",
    "import numpy as np\n",
    "from sklearn.metrics import classification_report\n",
    "import matplotlib.pyplot as plt"
   ]
  },
  {
   "cell_type": "markdown",
   "id": "c08a6cb0-9b05-4a80-a4cc-a2f70d9cbfd7",
   "metadata": {
    "id": "c08a6cb0-9b05-4a80-a4cc-a2f70d9cbfd7"
   },
   "source": [
    "<p class=\"task\" id=\"1\"></p>\n",
    "\n",
    "1\\. Загрузите граф Karate Club. Получите значения атрибута `club`, хранящегося на узлах. Выберите случайным образом 4 узла, относящихся к клубу `Mr. Hi` и 4 узла, относящихся к клубу `Officer`. Получите матрицу смежности, в которой узлы перенумерованы  таким образом, чтобы строки и столбцы с номерами 0, 1, ... 7 принадлежали узлам, которые были выбраны на предыдущем шаге.\n",
    "\n",
    "- [ ] Проверено на семинаре"
   ]
  },
  {
   "cell_type": "code",
   "execution_count": 8,
   "id": "7f004da3",
   "metadata": {},
   "outputs": [
    {
     "data": {
      "text/plain": [
       "([0, 1, 2, 3, 4, 5, 6, 7, 8, 10, 11, 12, 13, 16, 17, 19, 21],\n",
       " [9, 14, 15, 18, 20, 22, 23, 24, 25, 26, 27, 28, 29, 30, 31, 32, 33])"
      ]
     },
     "execution_count": 8,
     "metadata": {},
     "output_type": "execute_result"
    }
   ],
   "source": [
    "random.seed(0)\n",
    "\n",
    "G = nx.karate_club_graph()\n",
    "clubs = nx.get_node_attributes(G, 'club')\n",
    "hi = [n for n, c in clubs.items() if c == 'Mr. Hi']\n",
    "officer = [n for n, c in clubs.items() if c == 'Officer']\n",
    "hi, officer"
   ]
  },
  {
   "cell_type": "code",
   "execution_count": 9,
   "id": "9cd2e366",
   "metadata": {},
   "outputs": [
    {
     "data": {
      "text/plain": [
       "([13, 16, 0, 4], [33, 32, 23, 29])"
      ]
     },
     "execution_count": 9,
     "metadata": {},
     "output_type": "execute_result"
    }
   ],
   "source": [
    "s1 = random.sample(hi, 4)\n",
    "s2 = random.sample(officer, 4)\n",
    "s1, s2"
   ]
  },
  {
   "cell_type": "code",
   "execution_count": 10,
   "id": "48876f1a",
   "metadata": {},
   "outputs": [
    {
     "data": {
      "text/plain": [
       "array([[0, 0, 3, ..., 0, 0, 0],\n",
       "       [0, 0, 0, ..., 0, 0, 0],\n",
       "       [3, 0, 0, ..., 0, 0, 2],\n",
       "       ...,\n",
       "       [0, 0, 0, ..., 0, 0, 2],\n",
       "       [0, 0, 0, ..., 0, 0, 0],\n",
       "       [0, 0, 2, ..., 2, 0, 0]])"
      ]
     },
     "execution_count": 10,
     "metadata": {},
     "output_type": "execute_result"
    }
   ],
   "source": [
    "unlabeled = list(set(G).difference(s1).difference(s2))\n",
    "nodes_order = [*s1, *s2, *unlabeled]\n",
    "A = nx.adjacency_matrix(G, nodelist=nodes_order).toarray()\n",
    "A"
   ]
  },
  {
   "cell_type": "markdown",
   "id": "1627fe14-1c25-4234-b887-8d295589f26a",
   "metadata": {
    "id": "1627fe14-1c25-4234-b887-8d295589f26a"
   },
   "source": [
    "<p class=\"task\" id=\"2\"></p>\n",
    "\n",
    "2\\. Получите блочную матрицу $\\mathbf{P}$ и матрицу начального состояния меток $\\mathbf{Y_0} \\in \\{0,1\\}^{N\\times2}$\n",
    "$$\\mathbf{P} = \\begin{pmatrix}\n",
    "\\mathbf{P}_{ll}& \\mathbf{P}_{lu}\\\\\n",
    "\\mathbf{P}_{ul}& \\mathbf{P}_{uu}\\\\\n",
    "\\end{pmatrix} = \\begin{pmatrix}\n",
    "\\mathbf{I}& \\mathbf{0}\\\\\n",
    "\\mathbf{P}_{ul}& \\mathbf{P}_{uu}\\\\\n",
    "\\end{pmatrix}$$\n",
    "\n",
    "$$\\mathbf{Y_0} = \\begin{pmatrix}\n",
    "\\mathbf{Y_{l}}\\\\\n",
    "\\mathbf{Y_{u}}\\\\\n",
    "\\end{pmatrix}= \\begin{pmatrix}\n",
    "\\mathbf{Y_{l}}\\\\\n",
    "\\mathbf{0}\\\\\n",
    "\\end{pmatrix}$$\n",
    "\n",
    "Выведите на экран след матрицы $\\mathbf{P}$. Выведите на экран количество ненулевых элементов матрицы $\\mathbf{Y_0}$\n",
    "\n",
    "- [ ] Проверено на семинаре"
   ]
  },
  {
   "cell_type": "code",
   "execution_count": 11,
   "id": "77088a35",
   "metadata": {},
   "outputs": [
    {
     "data": {
      "text/plain": [
       "((26, 8), (26, 26))"
      ]
     },
     "execution_count": 11,
     "metadata": {},
     "output_type": "execute_result"
    }
   ],
   "source": [
    "D = np.diag(A.sum(axis=1))\n",
    "P = np.linalg.inv(D) @ A\n",
    "\n",
    "P_ul = P[(n:=(len(s1)+len(s2))):, :n]\n",
    "P_uu = P[n:, n:]\n",
    "\n",
    "P_ul.shape, P_uu.shape"
   ]
  },
  {
   "cell_type": "code",
   "execution_count": 12,
   "id": "26f325b4",
   "metadata": {},
   "outputs": [
    {
     "data": {
      "text/plain": [
       "(34, 34)"
      ]
     },
     "execution_count": 12,
     "metadata": {},
     "output_type": "execute_result"
    }
   ],
   "source": [
    "I = np.eye(n)\n",
    "O = np.zeros((n, len(G)-n))\n",
    "P_rw = np.vstack([np.hstack([I, O]), np.hstack([P_ul, P_uu])])\n",
    "\n",
    "P_rw.shape"
   ]
  },
  {
   "cell_type": "code",
   "execution_count": 13,
   "id": "2e1d2afa",
   "metadata": {},
   "outputs": [
    {
     "data": {
      "text/plain": [
       "(0.0, 8.0)"
      ]
     },
     "execution_count": 13,
     "metadata": {},
     "output_type": "execute_result"
    }
   ],
   "source": [
    "P.trace(), P_rw.trace()"
   ]
  },
  {
   "cell_type": "code",
   "execution_count": 14,
   "id": "b3439a54",
   "metadata": {},
   "outputs": [
    {
     "data": {
      "text/plain": [
       "array([[1., 0.],\n",
       "       [1., 0.],\n",
       "       [1., 0.],\n",
       "       [1., 0.],\n",
       "       [0., 1.],\n",
       "       [0., 1.],\n",
       "       [0., 1.],\n",
       "       [0., 1.],\n",
       "       [0., 0.],\n",
       "       [0., 0.],\n",
       "       [0., 0.],\n",
       "       [0., 0.],\n",
       "       [0., 0.],\n",
       "       [0., 0.],\n",
       "       [0., 0.],\n",
       "       [0., 0.],\n",
       "       [0., 0.],\n",
       "       [0., 0.],\n",
       "       [0., 0.],\n",
       "       [0., 0.],\n",
       "       [0., 0.],\n",
       "       [0., 0.],\n",
       "       [0., 0.],\n",
       "       [0., 0.],\n",
       "       [0., 0.],\n",
       "       [0., 0.],\n",
       "       [0., 0.],\n",
       "       [0., 0.],\n",
       "       [0., 0.],\n",
       "       [0., 0.],\n",
       "       [0., 0.],\n",
       "       [0., 0.],\n",
       "       [0., 0.],\n",
       "       [0., 0.]])"
      ]
     },
     "execution_count": 14,
     "metadata": {},
     "output_type": "execute_result"
    }
   ],
   "source": [
    "Y0 = np.zeros((len(G), 2))\n",
    "Y0[:len(s1), 0] = 1\n",
    "Y0[len(s1):n, 1] = 1\n",
    "\n",
    "Y0"
   ]
  },
  {
   "cell_type": "code",
   "execution_count": 15,
   "id": "ef77dee7",
   "metadata": {},
   "outputs": [
    {
     "data": {
      "text/plain": [
       "8"
      ]
     },
     "execution_count": 15,
     "metadata": {},
     "output_type": "execute_result"
    }
   ],
   "source": [
    "np.count_nonzero(Y0)"
   ]
  },
  {
   "cell_type": "markdown",
   "id": "83e349d5-0e05-436b-9ecd-badbd2844fa4",
   "metadata": {
    "id": "83e349d5-0e05-436b-9ecd-badbd2844fa4"
   },
   "source": [
    "<p class=\"task\" id=\"3\"></p>\n",
    "\n",
    "3\\. Известно, что для блочной матрицы справедливо:\n",
    "\n",
    "$$\\mathbf{P}^{\\infty} =\n",
    "\\begin{pmatrix}\n",
    "\\mathbf{I}& \\mathbf{0}\\\\\n",
    "(\\mathbf{I}-\\mathbf{P}_{uu})^{-1}\\mathbf{P}_{ul}& \\mathbf{0}\\\\\n",
    "\\end{pmatrix}$$\n",
    "\n",
    "Получите оценку $\\mathbf{P}^{\\infty}$ путем возведения матрицы в достаточно большую степень. Свяжите блоки матрицы с отдельными переменными `P_ll`, `P_lu`, `P_ul`, `P_uu` и продемонстрируйте, что каждый блок полученной матрицы удовлетворяет формуле выше при помощи функции `np.allclose`.\n",
    "\n",
    "- [ ] Проверено на семинаре"
   ]
  },
  {
   "cell_type": "code",
   "execution_count": 16,
   "id": "2c2bcc81",
   "metadata": {},
   "outputs": [
    {
     "data": {
      "text/plain": [
       "array([[1.00000000e+00, 0.00000000e+00, 0.00000000e+00, ...,\n",
       "        0.00000000e+00, 0.00000000e+00, 0.00000000e+00],\n",
       "       [0.00000000e+00, 1.00000000e+00, 0.00000000e+00, ...,\n",
       "        0.00000000e+00, 0.00000000e+00, 0.00000000e+00],\n",
       "       [0.00000000e+00, 0.00000000e+00, 1.00000000e+00, ...,\n",
       "        0.00000000e+00, 0.00000000e+00, 0.00000000e+00],\n",
       "       ...,\n",
       "       [8.21199122e-02, 0.00000000e+00, 1.89717180e-01, ...,\n",
       "        9.25989889e-21, 1.15814008e-20, 2.23795856e-20],\n",
       "       [8.06397301e-02, 0.00000000e+00, 1.61164732e-01, ...,\n",
       "        6.31712769e-21, 7.90112341e-21, 1.52667074e-20],\n",
       "       [1.36051198e-02, 0.00000000e+00, 1.54618762e-01, ...,\n",
       "        6.39416730e-21, 7.99684674e-21, 1.54546034e-20]])"
      ]
     },
     "execution_count": 16,
     "metadata": {},
     "output_type": "execute_result"
    }
   ],
   "source": [
    "P_inf = np.linalg.matrix_power(P_rw, 100)\n",
    "P_inf"
   ]
  },
  {
   "cell_type": "code",
   "execution_count": 17,
   "id": "4bd4eb66",
   "metadata": {},
   "outputs": [
    {
     "data": {
      "text/plain": [
       "True"
      ]
     },
     "execution_count": 17,
     "metadata": {},
     "output_type": "execute_result"
    }
   ],
   "source": [
    "P_ll_inf = P_inf[:n, :n]\n",
    "P_lu_inf = P_inf[:n, n:]\n",
    "P_ul_inf = P_inf[n:, :n]\n",
    "P_uu_inf = P_inf[n:, n:]\n",
    "\n",
    "all((np.allclose(P_ll_inf, I), np.allclose(P_lu_inf, 0),\n",
    "    np.allclose(P_ul_inf, np.linalg.inv(np.eye(P_uu.shape[0]) - P_uu) @ P_ul),\n",
    "    np.allclose(P_uu_inf, 0)))"
   ]
  },
  {
   "cell_type": "markdown",
   "id": "1ddf9392-8ee3-45c2-b462-f2f8a9ceb9ca",
   "metadata": {
    "id": "1ddf9392-8ee3-45c2-b462-f2f8a9ceb9ca"
   },
   "source": [
    "<p class=\"task\" id=\"4\"></p>\n",
    "\n",
    "4\\. Используя Базовый вариант RW-LPA , расставьте метки для всех узлов. Визуализируйте сеть, показав цветом контура вокруг узла принадлежность узла к одному из сообществ, а цветом цветом заливки узла - сообщество, к которому узел был отнесен алгоритмом.\n",
    "\n",
    "![](https://i.imgur.com/R4ZbGEV.png)\n",
    "\n",
    "- [ ] Проверено на семинаре"
   ]
  },
  {
   "cell_type": "code",
   "execution_count": 18,
   "id": "ebc6f4bd",
   "metadata": {},
   "outputs": [
    {
     "data": {
      "text/plain": [
       "array([0, 0, 0, 0, 1, 1, 1, 1, 0, 0, 0, 0, 0, 0, 1, 1, 0, 0, 0, 1, 1, 0,\n",
       "       1, 0, 1, 0, 1, 1, 1, 1, 1, 1, 1, 1])"
      ]
     },
     "execution_count": 18,
     "metadata": {},
     "output_type": "execute_result"
    }
   ],
   "source": [
    "Y_prev = Y0\n",
    "Y_next = P_rw @ Y0\n",
    "\n",
    "while np.linalg.norm(Y_next - Y_prev) > 1e-10:\n",
    "    Y_prev = Y_next.copy()\n",
    "    Y_next = P_rw @ Y_prev\n",
    "\n",
    "pred = np.argmax(Y_next, axis=1)\n",
    "pred"
   ]
  },
  {
   "cell_type": "code",
   "execution_count": 19,
   "id": "d22cde8c",
   "metadata": {},
   "outputs": [
    {
     "name": "stdout",
     "output_type": "stream",
     "text": [
      "              precision    recall  f1-score   support\n",
      "\n",
      "      Mr. Hi       1.00      0.92      0.96        13\n",
      "     Officer       0.93      1.00      0.96        13\n",
      "\n",
      "    accuracy                           0.96        26\n",
      "   macro avg       0.96      0.96      0.96        26\n",
      "weighted avg       0.96      0.96      0.96        26\n",
      "\n"
     ]
    }
   ],
   "source": [
    "labels = [0 if clubs[node] == 'Mr. Hi' else 1 for node in nodes_order]\n",
    "print(classification_report(labels[n:], pred[n:], target_names=['Mr. Hi', 'Officer']))"
   ]
  },
  {
   "cell_type": "code",
   "execution_count": 20,
   "id": "97bdcfce",
   "metadata": {},
   "outputs": [
    {
     "data": {
      "image/png": "[encoded data removed]",
      "text/plain": [
       "<Figure size 800x600 with 1 Axes>"
      ]
     },
     "metadata": {},
     "output_type": "display_data"
    }
   ],
   "source": [
    "pos = nx.spring_layout(G, seed=0)\n",
    "\n",
    "plt.figure(figsize=(8, 6))\n",
    "nx.draw_networkx_edges(G, pos)\n",
    "nx.draw_networkx_nodes(G, pos, nodelist=nodes_order, linewidths=2,\n",
    "    node_color=['red' if p else 'blue' for p in pred],\n",
    "    edgecolors=['red' if l else 'blue' for l in labels])\n",
    "\n",
    "nx.draw_networkx_labels(G, pos, font_size=8, font_color='white', font_weight='bold')\n",
    "plt.axis('off')\n",
    "plt.show()"
   ]
  },
  {
   "cell_type": "code",
   "execution_count": null,
   "id": "75dbdcc7",
   "metadata": {},
   "outputs": [],
   "source": []
  }
 ],
 "metadata": {
  "colab": {
   "provenance": []
  },
  "kernelspec": {
   "display_name": "new",
   "language": "python",
   "name": "python3"
  },
  "language_info": {
   "codemirror_mode": {
    "name": "ipython",
    "version": 3
   },
   "file_extension": ".py",
   "mimetype": "text/x-python",
   "name": "python",
   "nbconvert_exporter": "python",
   "pygments_lexer": "ipython3",
   "version": "3.12.2"
  }
 },
 "nbformat": 4,
 "nbformat_minor": 5
}
