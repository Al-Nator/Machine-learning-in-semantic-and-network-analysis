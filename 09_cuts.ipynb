{
 "cells": [
  {
   "cell_type": "markdown",
   "id": "29eedd06-4cd6-41fc-aa4e-569dd4f521bd",
   "metadata": {
    "id": "29eedd06-4cd6-41fc-aa4e-569dd4f521bd"
   },
   "source": [
    "# Разрез графа. Матрица Лапласа."
   ]
  },
  {
   "cell_type": "markdown",
   "id": "f6b687e9-05ef-4908-8bde-2b5dbbe576b6",
   "metadata": {
    "id": "f6b687e9-05ef-4908-8bde-2b5dbbe576b6"
   },
   "source": [
    "__Автор задач: Блохин Н.В. (NVBlokhin@fa.ru)__\n",
    "\n",
    "Материалы:\n",
    "* Макрушин С.В. \"Лекция 5: Выявление сообществ в сетях 2. Спектральные методы\"\n",
    "* Документация:\n",
    "    * https://networkx.org/documentation/stable/reference/algorithms/generated/networkx.algorithms.cuts.cut_size.html\n",
    "    * https://networkx.org/documentation/stable/reference/algorithms/generated/networkx.algorithms.cuts.normalized_cut_size.html\n",
    "    * https://networkx.org/documentation/stable/reference/generated/networkx.linalg.laplacianmatrix.laplacian_matrix.html\n",
    "    * https://networkx.org/documentation/stable/reference/algorithms/generated/networkx.algorithms.cuts.volume.html\n",
    "    * https://networkx.org/documentation/stable/reference/algorithms/generated/networkx.algorithms.components.connected_components.html\n",
    "    * https://numpy.org/doc/stable/reference/generated/numpy.linalg.eig.html"
   ]
  },
  {
   "cell_type": "markdown",
   "id": "a13ab35d-a7c0-4237-a394-691389c7c773",
   "metadata": {
    "id": "a13ab35d-a7c0-4237-a394-691389c7c773"
   },
   "source": [
    "## Вопросы для совместного обсуждения"
   ]
  },
  {
   "cell_type": "markdown",
   "id": "7ea53db8-da33-43ee-95e0-9876384499c1",
   "metadata": {
    "id": "7ea53db8-da33-43ee-95e0-9876384499c1"
   },
   "source": [
    "1\\. Обсудите понятия разреза графа и матрицы Лапласа."
   ]
  },
  {
   "cell_type": "code",
   "execution_count": 1,
   "id": "vMCxf-6LlYGg",
   "metadata": {
    "executionInfo": {
     "elapsed": 3175,
     "status": "ok",
     "timestamp": 1744974502121,
     "user": {
      "displayName": "Никита Блохин",
      "userId": "16402972581398673009"
     },
     "user_tz": -180
    },
    "id": "vMCxf-6LlYGg"
   },
   "outputs": [],
   "source": [
    "import networkx as nx"
   ]
  },
  {
   "cell_type": "code",
   "execution_count": 2,
   "id": "NIk8u4jolfaJ",
   "metadata": {
    "colab": {
     "base_uri": "https://localhost:8080/"
    },
    "executionInfo": {
     "elapsed": 5,
     "status": "ok",
     "timestamp": 1744975165373,
     "user": {
      "displayName": "Никита Блохин",
      "userId": "16402972581398673009"
     },
     "user_tz": -180
    },
    "id": "NIk8u4jolfaJ",
    "outputId": "c31254f7-644f-4a62-cee4-3d1a545f38b4"
   },
   "outputs": [
    {
     "data": {
      "text/plain": [
       "array([[0, 1, 1, ..., 1, 0, 0],\n",
       "       [1, 0, 1, ..., 0, 0, 0],\n",
       "       [1, 1, 0, ..., 0, 1, 0],\n",
       "       ...,\n",
       "       [1, 0, 0, ..., 0, 1, 1],\n",
       "       [0, 0, 1, ..., 1, 0, 1],\n",
       "       [0, 0, 0, ..., 1, 1, 0]])"
      ]
     },
     "execution_count": 2,
     "metadata": {},
     "output_type": "execute_result"
    }
   ],
   "source": [
    "G = nx.karate_club_graph()\n",
    "A = nx.adjacency_matrix(G, weight=None).toarray()\n",
    "A"
   ]
  },
  {
   "cell_type": "code",
   "execution_count": 3,
   "id": "YPevYtGFn1Ut",
   "metadata": {
    "executionInfo": {
     "elapsed": 3,
     "status": "ok",
     "timestamp": 1744975218561,
     "user": {
      "displayName": "Никита Блохин",
      "userId": "16402972581398673009"
     },
     "user_tz": -180
    },
    "id": "YPevYtGFn1Ut"
   },
   "outputs": [],
   "source": [
    "import numpy as np\n",
    "\n",
    "u, v = np.linalg.eig(A)"
   ]
  },
  {
   "cell_type": "code",
   "execution_count": 4,
   "id": "9y8a5AykoEGS",
   "metadata": {
    "colab": {
     "base_uri": "https://localhost:8080/"
    },
    "executionInfo": {
     "elapsed": 13,
     "status": "ok",
     "timestamp": 1744975427707,
     "user": {
      "displayName": "Никита Блохин",
      "userId": "16402972581398673009"
     },
     "user_tz": -180
    },
    "id": "9y8a5AykoEGS",
    "outputId": "69ea53a2-3221-464d-c9a8-e03029c57409"
   },
   "outputs": [
    {
     "data": {
      "text/plain": [
       "(2, (-4.4872291941622535+0j))"
      ]
     },
     "execution_count": 4,
     "metadata": {},
     "output_type": "execute_result"
    }
   ],
   "source": [
    "u.argmin(), u[2]"
   ]
  },
  {
   "cell_type": "code",
   "execution_count": 5,
   "id": "EzkmNx0WoEED",
   "metadata": {
    "colab": {
     "base_uri": "https://localhost:8080/"
    },
    "executionInfo": {
     "elapsed": 12,
     "status": "ok",
     "timestamp": 1744975448114,
     "user": {
      "displayName": "Никита Блохин",
      "userId": "16402972581398673009"
     },
     "user_tz": -180
    },
    "id": "EzkmNx0WoEED",
    "outputId": "d78148d1-d372-4573-d663-b73faee4ce17"
   },
   "outputs": [
    {
     "data": {
      "text/plain": [
       "array([ 0.31716992+0.j,  0.12496128+0.j,  0.02726159+0.j, -0.01922241+0.j,\n",
       "       -0.04807417+0.j, -0.05337592+0.j, -0.05337592+0.j, -0.10032257+0.j,\n",
       "       -0.2204497 +0.j, -0.12216865+0.j, -0.04807417+0.j, -0.0706828 +0.j,\n",
       "       -0.06639899+0.j, -0.21641584+0.j, -0.17879433+0.j, -0.17879433+0.j,\n",
       "        0.02379015+0.j, -0.098531  +0.j, -0.17879433+0.j, -0.21462428+0.j,\n",
       "       -0.17879433+0.j, -0.098531  +0.j, -0.17879433+0.j, -0.14433815+0.j,\n",
       "        0.06572081+0.j,  0.07710226+0.j, -0.08777588+0.j, -0.10464841+0.j,\n",
       "       -0.06258662+0.j, -0.12706663+0.j, -0.15751428+0.j, -0.26735819+0.j,\n",
       "        0.281354  +0.j,  0.52093712+0.j])"
      ]
     },
     "execution_count": 5,
     "metadata": {},
     "output_type": "execute_result"
    }
   ],
   "source": [
    "v[:,2] # v[2] - неправильно!!!"
   ]
  },
  {
   "cell_type": "markdown",
   "id": "5f786de8-ba69-4d86-b997-e55c9028acad",
   "metadata": {
    "id": "5f786de8-ba69-4d86-b997-e55c9028acad"
   },
   "source": [
    "## Задачи для самостоятельного решения"
   ]
  },
  {
   "cell_type": "code",
   "execution_count": 6,
   "id": "e22de021",
   "metadata": {},
   "outputs": [],
   "source": [
    "import networkx as nx\n",
    "from itertools import combinations, product\n",
    "import numpy as np"
   ]
  },
  {
   "cell_type": "markdown",
   "id": "c08a6cb0-9b05-4a80-a4cc-a2f70d9cbfd7",
   "metadata": {
    "id": "c08a6cb0-9b05-4a80-a4cc-a2f70d9cbfd7"
   },
   "source": [
    "<p class=\"task\" id=\"1\"></p>\n",
    "\n",
    "1\\. Задан граф `G`. Определите два разреза:\n",
    "\n",
    "*  $C^{(1)}=(N_1^{(1)}, N_2^{(1)})$, $N_1^{(1)} = \\{0, 1, 2, 3, 4\\}$, $N_2^{(1)} = \\{5, 6, 7, 8, 9\\} $\n",
    "*  $C^{(2)}=(N_1^{(2)}, N_2^{(2)})$, $N_1^{(2)} = \\{0, 1, 2, 3, 4, 5, 6, 7, 8\\}$, $N_2^{(2)} = \\{9\\} $\n",
    "\n",
    "Для каждого из разрезов вычислите величину $Q^{(k)}$ двумя способами: явным образом просмотрев все ребра и при помощи функции из пакета `networkx`. Выведите величины разрезов на экран.\n",
    "\n",
    "$$Q^{(k)}=cut(N_1^{(k)},N_2^{(k)})=\\sum_{i \\in N_1^{(k)}, j \\in N_2^{(k)}} l_{ij}$$\n",
    "\n",
    "- [ ] Проверено на семинаре"
   ]
  },
  {
   "cell_type": "code",
   "execution_count": 7,
   "id": "be7ce749",
   "metadata": {
    "colab": {
     "base_uri": "https://localhost:8080/",
     "height": 516
    },
    "executionInfo": {
     "elapsed": 543,
     "status": "ok",
     "timestamp": 1744974656240,
     "user": {
      "displayName": "Никита Блохин",
      "userId": "16402972581398673009"
     },
     "user_tz": -180
    },
    "id": "be7ce749",
    "outputId": "e364f72b-afcb-4cf8-f2f5-65b18ca2327d",
    "scrolled": true
   },
   "outputs": [
    {
     "data": {
      "image/png": "[encoded data removed]",
      "text/plain": [
       "<Figure size 640x480 with 1 Axes>"
      ]
     },
     "metadata": {},
     "output_type": "display_data"
    }
   ],
   "source": [
    "G = nx.Graph()\n",
    "G.add_edges_from(combinations(range(5), 2))\n",
    "G.add_edges_from(combinations(range(5, 9), 2))\n",
    "G.add_edges_from([(8, 3), (6, 1), (7, 9)])\n",
    "pos = nx.spring_layout(G, seed=30)\n",
    "nx.draw(G, pos=pos, with_labels=True)"
   ]
  },
  {
   "cell_type": "code",
   "execution_count": 8,
   "id": "79e91c91",
   "metadata": {},
   "outputs": [
    {
     "data": {
      "text/plain": [
       "(2, 1)"
      ]
     },
     "execution_count": 8,
     "metadata": {},
     "output_type": "execute_result"
    }
   ],
   "source": [
    "N1_1, N2_1 = {0, 1, 2, 3, 4}, {5, 6, 7, 8, 9}\n",
    "N1_2, N2_2 = {0, 1, 2, 3, 4, 5, 6, 7, 8}, {9}\n",
    "\n",
    "Q1 = sum(l in G.edges() for l in product(N1_1, N2_1))\n",
    "Q2 = sum(l in G.edges() for l in product(N1_2, N2_2))\n",
    "Q1, Q2"
   ]
  },
  {
   "cell_type": "code",
   "execution_count": 9,
   "id": "319de32a",
   "metadata": {},
   "outputs": [
    {
     "data": {
      "text/plain": [
       "(2, 1)"
      ]
     },
     "execution_count": 9,
     "metadata": {},
     "output_type": "execute_result"
    }
   ],
   "source": [
    "nx.cut_size(G, N1_1, N2_1), nx.cut_size(G, N1_2, N2_2)"
   ]
  },
  {
   "cell_type": "markdown",
   "id": "1627fe14-1c25-4234-b887-8d295589f26a",
   "metadata": {
    "id": "1627fe14-1c25-4234-b887-8d295589f26a"
   },
   "source": [
    "<p class=\"task\" id=\"2\"></p>\n",
    "\n",
    "2\\. Для разрезов из предыдущего задания вычислите\n",
    "\n",
    "$$ Vol(N_t^{(k)}) = \\sum_{i \\in N_t^{(k)}, j \\in N} l_{ij}=\\sum_{i \\in N_t^{(k)}} k_{i}, t=1,2 $$\n",
    "\n",
    "$$Q_{normalized}^{(k)}=\\frac{cut(N_1^{(k)},N_2^{(k)})}{Vol(N_1^{(k)})}+\\frac{cut(N_1^{(k)},N_2^{(k)})}{Vol(N_2^{(k)})}$$\n",
    "и\n",
    "$$Q_{quotient}^{(k)}=\\frac{cut(N_1^{(k)},N_2^{(k)})}{\\min(Vol(N_1^{(k)}),Vol(N_2^{(k)}))}$$\n",
    "\n",
    "Для каждого разреза выведите четыре величины $Vol(N_1^{(k)})$, $Vol(N_2^{(k)})$, $Q_{normalized}^{(k)}$ и $Q_{quotient}^{(k)}$ на экран.\n",
    "- [ ] Проверено на семинаре"
   ]
  },
  {
   "cell_type": "code",
   "execution_count": 10,
   "id": "c67cdc22",
   "metadata": {},
   "outputs": [],
   "source": [
    "Vol_N1_1, Vol_N2_1, Vol_N1_2, Vol_N2_2 = (sum(dict(G.degree(N)).values())\n",
    "                                              for N in [N1_1, N2_1, N1_2, N2_2])\n",
    "\n",
    "Q_1_norm = Q1 / Vol_N1_1 + Q1 / Vol_N2_1\n",
    "Q_2_norm = Q2 / Vol_N1_2 + Q2 / Vol_N2_2\n",
    "\n",
    "Q_1_q = Q1 / min(Vol_N1_1, Vol_N2_1)\n",
    "Q_2_q = Q2 / min(Vol_N1_2, Vol_N2_2)"
   ]
  },
  {
   "cell_type": "code",
   "execution_count": 11,
   "id": "a1c24643",
   "metadata": {},
   "outputs": [
    {
     "name": "stdout",
     "output_type": "stream",
     "text": [
      "Разрез 1\n",
      " Vol_1: 22, Vol_2: 16\n",
      " Q_normalized: 0.2159 \n",
      " Q_quotient: 0.125\n",
      "\n",
      "Разрез 2\n",
      " Vol_1: 37, Vol_2: 1\n",
      " Q_normalized: 1.0270 \n",
      " Q_quotient: 1.0\n"
     ]
    }
   ],
   "source": [
    "print(f'Разрез 1\\n Vol_1: {Vol_N1_1}, Vol_2: {Vol_N2_1}\\n Q_normalized: {Q_1_norm:.4f} \\n Q_quotient: {Q_1_q}', end='\\n\\n')\n",
    "print(f'Разрез 2\\n Vol_1: {Vol_N1_2}, Vol_2: {Vol_N2_2}\\n Q_normalized: {Q_2_norm:.4f} \\n Q_quotient: {Q_2_q}')"
   ]
  },
  {
   "cell_type": "markdown",
   "id": "83e349d5-0e05-436b-9ecd-badbd2844fa4",
   "metadata": {
    "id": "83e349d5-0e05-436b-9ecd-badbd2844fa4"
   },
   "source": [
    "<p class=\"task\" id=\"3\"></p>\n",
    "\n",
    "3\\. Для графа `G` из задания 1 вычислите матрицу Лапласа двумя способами:\n",
    "* по формуле $\\mathbf{L}=\\mathbf{D}-\\mathbf{A}$;\n",
    "* используя готовую функцию из `networkx`.\n",
    "\n",
    "Выведите полученные матрицы на экран и покажите, что они равны.\n",
    "\n",
    "- [ ] Проверено на семинаре"
   ]
  },
  {
   "cell_type": "code",
   "execution_count": 12,
   "id": "13baf008",
   "metadata": {},
   "outputs": [
    {
     "data": {
      "text/plain": [
       "array([[ 4, -1, -1, -1, -1,  0,  0,  0,  0,  0],\n",
       "       [-1,  5, -1, -1, -1,  0, -1,  0,  0,  0],\n",
       "       [-1, -1,  4, -1, -1,  0,  0,  0,  0,  0],\n",
       "       [-1, -1, -1,  5, -1,  0,  0,  0, -1,  0],\n",
       "       [-1, -1, -1, -1,  4,  0,  0,  0,  0,  0],\n",
       "       [ 0,  0,  0,  0,  0,  3, -1, -1, -1,  0],\n",
       "       [ 0, -1,  0,  0,  0, -1,  4, -1, -1,  0],\n",
       "       [ 0,  0,  0,  0,  0, -1, -1,  4, -1, -1],\n",
       "       [ 0,  0,  0, -1,  0, -1, -1, -1,  4,  0],\n",
       "       [ 0,  0,  0,  0,  0,  0,  0, -1,  0,  1]])"
      ]
     },
     "execution_count": 12,
     "metadata": {},
     "output_type": "execute_result"
    }
   ],
   "source": [
    "A = nx.adjacency_matrix(G).toarray()\n",
    "D = np.diag([G.degree(n) for n in G.nodes()])\n",
    "L1 = D - A\n",
    "L1"
   ]
  },
  {
   "cell_type": "code",
   "execution_count": 13,
   "id": "a0fd7cda",
   "metadata": {},
   "outputs": [
    {
     "data": {
      "text/plain": [
       "True"
      ]
     },
     "execution_count": 13,
     "metadata": {},
     "output_type": "execute_result"
    }
   ],
   "source": [
    "L2 = nx.laplacian_matrix(G).toarray()\n",
    "np.allclose(L1, L2)"
   ]
  },
  {
   "cell_type": "markdown",
   "id": "1ddf9392-8ee3-45c2-b462-f2f8a9ceb9ca",
   "metadata": {
    "id": "1ddf9392-8ee3-45c2-b462-f2f8a9ceb9ca"
   },
   "source": [
    "<p class=\"task\" id=\"4\"></p>\n",
    "\n",
    "4\\. Для каждого из разрезов первого задания вычислите величины $Q^{(k)}$, воспользовавшись матрицей Лапласа.\n",
    "\n",
    "- [ ] Проверено на семинаре"
   ]
  },
  {
   "cell_type": "code",
   "execution_count": 14,
   "id": "7f447f56",
   "metadata": {},
   "outputs": [
    {
     "data": {
      "text/plain": [
       "(2.0, 1.0)"
      ]
     },
     "execution_count": 14,
     "metadata": {},
     "output_type": "execute_result"
    }
   ],
   "source": [
    "def lap_cut(G, N1, N2):\n",
    "    f = np.zeros(len(G))\n",
    "    f[list(N1)] = 1\n",
    "    f[list(N2)] = -1\n",
    "\n",
    "    return 0.25 * f.T @ L2 @ f\n",
    "\n",
    "lap_cut(G, N1_1, N2_1), lap_cut(G, N1_2, N2_2)"
   ]
  },
  {
   "cell_type": "markdown",
   "id": "dd85a863-f864-4b7f-b88c-f96c469cbd3c",
   "metadata": {
    "id": "dd85a863-f864-4b7f-b88c-f96c469cbd3c"
   },
   "source": [
    "<p class=\"task\" id=\"5\"></p>\n",
    "\n",
    "5\\. Найдите собственные значения и собственные векторы матрицы Лапласа. Выведите на экран кратность нулевого собственного значения матрицы Лапласа. Найдите и выведите на экран количество компонент связности в графе `G`.\n",
    "\n",
    "Создайте копию графа `G` с удаленными ребрами в соответствии с разрезом $C^{(1)}$. Повторите решение задачи для получившегося несвязного графа.\n",
    "\n",
    "- [ ] Проверено на семинаре"
   ]
  },
  {
   "cell_type": "code",
   "execution_count": 15,
   "id": "a16cd36c",
   "metadata": {},
   "outputs": [
    {
     "data": {
      "text/plain": [
       "(1, 1)"
      ]
     },
     "execution_count": 15,
     "metadata": {},
     "output_type": "execute_result"
    }
   ],
   "source": [
    "sum(np.isclose(np.linalg.eigvals(L2), 0)), nx.number_connected_components(G)"
   ]
  },
  {
   "cell_type": "code",
   "execution_count": 16,
   "id": "86ab93c5",
   "metadata": {},
   "outputs": [
    {
     "data": {
      "image/png": "[encoded data removed]",
      "text/plain": [
       "<Figure size 640x480 with 1 Axes>"
      ]
     },
     "metadata": {},
     "output_type": "display_data"
    }
   ],
   "source": [
    "G2 = G.copy()\n",
    "\n",
    "G2.remove_edges_from(e for e in product(N1_1, N2_1) if e in G.edges()) \n",
    "pos = nx.spring_layout(G2, seed=30)\n",
    "nx.draw(G2, pos=pos, with_labels=True)"
   ]
  },
  {
   "cell_type": "code",
   "execution_count": 17,
   "id": "f68f28b8",
   "metadata": {},
   "outputs": [
    {
     "data": {
      "text/plain": [
       "(2, 2)"
      ]
     },
     "execution_count": 17,
     "metadata": {},
     "output_type": "execute_result"
    }
   ],
   "source": [
    "L = nx.laplacian_matrix(G2).toarray()\n",
    "sum(np.isclose(np.linalg.eigvals(L), 0)), nx.number_connected_components(G2)"
   ]
  },
  {
   "cell_type": "code",
   "execution_count": null,
   "id": "d21674db",
   "metadata": {},
   "outputs": [],
   "source": []
  }
 ],
 "metadata": {
  "colab": {
   "provenance": []
  },
  "kernelspec": {
   "display_name": "new",
   "language": "python",
   "name": "python3"
  },
  "language_info": {
   "codemirror_mode": {
    "name": "ipython",
    "version": 3
   },
   "file_extension": ".py",
   "mimetype": "text/x-python",
   "name": "python",
   "nbconvert_exporter": "python",
   "pygments_lexer": "ipython3",
   "version": "3.12.2"
  }
 },
 "nbformat": 4,
 "nbformat_minor": 5
}
